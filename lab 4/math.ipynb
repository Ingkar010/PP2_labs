{
 "cells": [
  {
   "attachments": {},
   "cell_type": "markdown",
   "metadata": {},
   "source": [
    "Write a Python program to convert degree to radian"
   ]
  },
  {
   "cell_type": "code",
   "execution_count": null,
   "metadata": {},
   "outputs": [],
   "source": [
    "import math\n",
    "degree = int(input())\n",
    "rad = math.radians(degree)\n",
    "print(float('{:.6f}'.format(rad)))"
   ]
  },
  {
   "attachments": {},
   "cell_type": "markdown",
   "metadata": {},
   "source": [
    "Write a Python program to calculate the area of a trapezoid"
   ]
  },
  {
   "cell_type": "code",
   "execution_count": null,
   "metadata": {},
   "outputs": [],
   "source": [
    "import math\n",
    "print(\"the height:\")\n",
    "h = int(input())\n",
    "print(\"the first value:\")\n",
    "f = int(input())\n",
    "print(\"the second value:\")\n",
    "s = int(input())\n",
    "area=((f+s)*h)/2\n",
    "print('The area is:', area)"
   ]
  },
  {
   "attachments": {},
   "cell_type": "markdown",
   "metadata": {},
   "source": [
    "Write a Python program to calculate the area of regular polygon"
   ]
  },
  {
   "cell_type": "code",
   "execution_count": null,
   "metadata": {},
   "outputs": [],
   "source": [
    "import math\n",
    "print('number of sides:')\n",
    "n=int(input())\n",
    "print('the length of a side:')\n",
    "l=int(input())\n",
    "p=n*l\n",
    "x=math.pi/n\n",
    "s=(n*l**2)/(4*math.tan(x))\n",
    "print('The area of the polygon is:', int(s))"
   ]
  },
  {
   "attachments": {},
   "cell_type": "markdown",
   "metadata": {},
   "source": [
    "Write a Python program to calculate the area of a parallelogram"
   ]
  },
  {
   "cell_type": "code",
   "execution_count": null,
   "metadata": {},
   "outputs": [],
   "source": [
    "import math \n",
    "print(\"the length of base:\")\n",
    "l=int(input())\n",
    "print(\"the height of parallelogram:\")\n",
    "h=int(input())\n",
    "print(\"Output:\", float(h*l))"
   ]
  }
 ],
 "metadata": {
  "language_info": {
   "name": "python"
  },
  "orig_nbformat": 4
 },
 "nbformat": 4,
 "nbformat_minor": 2
}
