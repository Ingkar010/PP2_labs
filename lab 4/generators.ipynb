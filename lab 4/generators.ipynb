{
 "cells": [
  {
   "attachments": {},
   "cell_type": "markdown",
   "metadata": {},
   "source": [
    "Create a generator that generates the squares of numbers up to some number N"
   ]
  },
  {
   "cell_type": "code",
   "execution_count": null,
   "metadata": {},
   "outputs": [],
   "source": [
    "def squares(n):\n",
    "    i = 1\n",
    "    while(i <= n):\n",
    "        yield i ** 2\n",
    "        i += 1\n",
    "n = int(input())\n",
    "for i in squares(n):\n",
    "    print(i)"
   ]
  },
  {
   "attachments": {},
   "cell_type": "markdown",
   "metadata": {},
   "source": [
    "Write a program using generator to print the even numbers between 0 and n in comma separated form where n is input from console"
   ]
  },
  {
   "cell_type": "code",
   "execution_count": null,
   "metadata": {},
   "outputs": [],
   "source": [
    "class even():\n",
    "    def __init__ (self, n):\n",
    "        self.end = n\n",
    "        self.current = 0\n",
    "    def __iter__ (self):\n",
    "        return self\n",
    "    def __next__(self):\n",
    "        if(self.current > self.end):\n",
    "            raise StopIteration()\n",
    "        else:\n",
    "            if(self.current %2 == 0):\n",
    "                b = self.current\n",
    "                self.current +=2\n",
    "                return b\n",
    "n = int(input())\n",
    "print(*even(n), sep=', ')"
   ]
  },
  {
   "attachments": {},
   "cell_type": "markdown",
   "metadata": {},
   "source": [
    "Define a function with a generator which can iterate the numbers, which are divisible by 3 and 4, between a given range 0 and n"
   ]
  },
  {
   "cell_type": "code",
   "execution_count": null,
   "metadata": {},
   "outputs": [],
   "source": [
    "def f(n): \n",
    "    i=0 \n",
    "    while(i%3==0 and i%4==0 and i<=n): \n",
    "        yield i \n",
    "        i=i+12 \n",
    "     \n",
    "n=int(input()) \n",
    " \n",
    "for i in f(n): \n",
    "    print(i)"
   ]
  },
  {
   "attachments": {},
   "cell_type": "markdown",
   "metadata": {},
   "source": [
    "Implement a generator called squares to yield the square of all numbers from (a) to (b). Test it with a \"for\" loop and print each of the yielded values"
   ]
  },
  {
   "cell_type": "code",
   "execution_count": null,
   "metadata": {},
   "outputs": [],
   "source": [
    "def squares(a, b): \n",
    "    i=a \n",
    "    while(i**2<=b): \n",
    "        yield i**2 \n",
    "        i=i+1 \n",
    "     \n",
    "a=int(input()) \n",
    "b=int(input()) \n",
    "for i in squares(a, b): \n",
    "    print(i)"
   ]
  },
  {
   "attachments": {},
   "cell_type": "markdown",
   "metadata": {},
   "source": [
    "Implement a generator that returns all numbers from (n) down to 0"
   ]
  },
  {
   "cell_type": "code",
   "execution_count": null,
   "metadata": {},
   "outputs": [],
   "source": [
    "def seq(n):\n",
    "    i = n\n",
    "    while(i >= 0):\n",
    "        yield i\n",
    "        i -= 1\n",
    "n = int(input())\n",
    "for i in seq(n):\n",
    "    print(i)"
   ]
  }
 ],
 "metadata": {
  "language_info": {
   "name": "python"
  },
  "orig_nbformat": 4
 },
 "nbformat": 4,
 "nbformat_minor": 2
}
