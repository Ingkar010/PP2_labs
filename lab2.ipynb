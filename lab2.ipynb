{
 "cells": [
  {
   "cell_type": "markdown",
   "id": "2e7de122",
   "metadata": {},
   "source": [
    "PYTHON booleans"
   ]
  },
  {
   "cell_type": "code",
   "execution_count": null,
   "id": "b3cd0566",
   "metadata": {},
   "outputs": [],
   "source": [
    "print(10>9)"
   ]
  },
  {
   "cell_type": "code",
   "execution_count": null,
   "id": "147d5e23",
   "metadata": {},
   "outputs": [],
   "source": [
    "print(10 == 9)"
   ]
  },
  {
   "cell_type": "code",
   "execution_count": null,
   "id": "c9b68c05",
   "metadata": {},
   "outputs": [],
   "source": [
    "print (10<9)"
   ]
  },
  {
   "cell_type": "code",
   "execution_count": null,
   "id": "761c0200",
   "metadata": {},
   "outputs": [],
   "source": [
    "print(bool(\"abc\"))"
   ]
  },
  {
   "cell_type": "code",
   "execution_count": null,
   "id": "1e51e729",
   "metadata": {},
   "outputs": [],
   "source": [
    "print(bool(0))"
   ]
  },
  {
   "cell_type": "code",
   "execution_count": null,
   "id": "11505a18",
   "metadata": {},
   "outputs": [],
   "source": [
    "PYTHON operators"
   ]
  },
  {
   "cell_type": "code",
   "execution_count": null,
   "id": "60c35561",
   "metadata": {},
   "outputs": [],
   "source": [
    "print(10*5)"
   ]
  },
  {
   "cell_type": "code",
   "execution_count": null,
   "id": "8277d6cf",
   "metadata": {},
   "outputs": [],
   "source": [
    "print(10/2)"
   ]
  },
  {
   "cell_type": "code",
   "execution_count": null,
   "id": "8f981997",
   "metadata": {},
   "outputs": [],
   "source": [
    "fruits = [\"apple\", \"banana\"]\n",
    "if \"apple\" in fruits:\n",
    "    print(\"Yes, apple is a fruit!\")"
   ]
  },
  {
   "cell_type": "code",
   "execution_count": null,
   "id": "2c7e3a6e",
   "metadata": {},
   "outputs": [],
   "source": [
    "if 5 != 10:\n",
    "    print(\"5 and 10 is not equal\")"
   ]
  },
  {
   "cell_type": "code",
   "execution_count": 2,
   "id": "10dd0fed",
   "metadata": {},
   "outputs": [
    {
     "name": "stdout",
     "output_type": "stream",
     "text": [
      "At least one of the statements true\n"
     ]
    }
   ],
   "source": [
    "if 5 == 10 or 4 == 4:\n",
    "    print(\"At least one of the statements true\")"
   ]
  },
  {
   "cell_type": "code",
   "execution_count": null,
   "id": "0aaa68bf",
   "metadata": {},
   "outputs": [],
   "source": [
    "PYTHON lists"
   ]
  },
  {
   "cell_type": "code",
   "execution_count": null,
   "id": "c54ec95f",
   "metadata": {},
   "outputs": [],
   "source": [
    "fruits = [\"apple\", \"banana\", \"cherry\"]\n",
    "print(fruits[1])"
   ]
  },
  {
   "cell_type": "code",
   "execution_count": null,
   "id": "af36a098",
   "metadata": {},
   "outputs": [],
   "source": [
    "fruits = [\"apple\", \"banana\", \"cherry\"]\n",
    "fruits[0] = \"kiwi\"\n",
    "print(fruits)"
   ]
  },
  {
   "cell_type": "code",
   "execution_count": null,
   "id": "5d135c4e",
   "metadata": {},
   "outputs": [],
   "source": [
    "fruits = [\"apple\", \"banana\", \"cherry\"]\n",
    "fruits.add(\"orange\")\n",
    "print(fruits)"
   ]
  },
  {
   "cell_type": "code",
   "execution_count": null,
   "id": "4bba04e6",
   "metadata": {},
   "outputs": [],
   "source": [
    "fruits = [\"apple\", \"banana\", \"cherry\"]\n",
    "fruits.insert(1,\"orange\")\n",
    "print(fruits)"
   ]
  },
  {
   "cell_type": "code",
   "execution_count": null,
   "id": "da3c0d4a",
   "metadata": {},
   "outputs": [],
   "source": [
    "fruits = [\"apple\", \"banana\", \"cherry\"]\n",
    "fruits.remove(\"banana\")\n",
    "print(fruits)"
   ]
  },
  {
   "cell_type": "code",
   "execution_count": null,
   "id": "c29c4835",
   "metadata": {},
   "outputs": [],
   "source": [
    "fruits = [\"apple\", \"banana\", \"cherry\"]\n",
    "print(fruits[-1])"
   ]
  },
  {
   "cell_type": "code",
   "execution_count": null,
   "id": "6f8b8a86",
   "metadata": {},
   "outputs": [],
   "source": [
    "fruits = [\"apple\", \"banana\", \"cherry\", \"orange\", \"kiwi\", \"melon\", \"mango\"]\n",
    "print(fruits[2:5])"
   ]
  },
  {
   "cell_type": "code",
   "execution_count": null,
   "id": "a9582c54",
   "metadata": {},
   "outputs": [],
   "source": [
    "fruits = [\"apple\", \"banana\", \"cherry\"]\n",
    "print(len(fruits))"
   ]
  },
  {
   "cell_type": "markdown",
   "id": "4d5ccd2a",
   "metadata": {},
   "source": [
    "PYTHON tuples"
   ]
  },
  {
   "cell_type": "code",
   "execution_count": null,
   "id": "0afaae0b",
   "metadata": {},
   "outputs": [],
   "source": [
    "fruits = [\"apple\", \"banana\", \"cherry\"]\n",
    "print(fruits[0])"
   ]
  },
  {
   "cell_type": "code",
   "execution_count": null,
   "id": "f01b4bcd",
   "metadata": {},
   "outputs": [],
   "source": [
    "fruits = [\"apple\", \"banana\", \"cherry\"]\n",
    "print(len(fruits))"
   ]
  },
  {
   "cell_type": "code",
   "execution_count": null,
   "id": "ee82263c",
   "metadata": {},
   "outputs": [],
   "source": [
    "fruits = [\"apple\", \"banana\", \"cherry\"]\n",
    "print(fruits[-1])"
   ]
  },
  {
   "cell_type": "code",
   "execution_count": null,
   "id": "9552302a",
   "metadata": {},
   "outputs": [],
   "source": [
    "fruits = (\"apple\", \"banana\", \"cherry\", \"orange\", \"kiwi\", \"melon\", \"mango\")\n",
    "print(fruits[2:5])"
   ]
  },
  {
   "cell_type": "markdown",
   "id": "dfe96e0f",
   "metadata": {},
   "source": [
    "PYTHON sets"
   ]
  },
  {
   "cell_type": "code",
   "execution_count": null,
   "id": "03622fa0",
   "metadata": {},
   "outputs": [],
   "source": [
    "fruits = {\"apple\", \"banana\", \"cherry\"}\n",
    "fruits.add(\"orange\")"
   ]
  },
  {
   "cell_type": "code",
   "execution_count": null,
   "id": "567bd0ff",
   "metadata": {},
   "outputs": [],
   "source": [
    "fruits = {\"apple\", \"banana\", \"cherry\"}\n",
    "more_fruits = [\"orange\", \"mango\", \"grapes\"]\n",
    "fruits.update(more_fruits)\n",
    "print(fruits)"
   ]
  },
  {
   "cell_type": "code",
   "execution_count": null,
   "id": "8a4204d9",
   "metadata": {},
   "outputs": [],
   "source": [
    "fruits = {\"apple\", \"banana\", \"cherry\"}\n",
    "fruits.remove(\"banana\")\n",
    "print(fruits)"
   ]
  },
  {
   "cell_type": "code",
   "execution_count": null,
   "id": "74f6185c",
   "metadata": {},
   "outputs": [],
   "source": [
    "fruits = {\"apple\", \"banana\", \"cherry\"}\n",
    "fruits.discard(\"banana\")\n",
    "print(fruits)"
   ]
  },
  {
   "cell_type": "code",
   "execution_count": null,
   "id": "17395c85",
   "metadata": {},
   "outputs": [],
   "source": [
    "PYTHON dictionaries"
   ]
  },
  {
   "cell_type": "code",
   "execution_count": null,
   "id": "dd8c1245",
   "metadata": {},
   "outputs": [],
   "source": [
    "car =\t{\n",
    "  \"brand\": \"Ford\",\n",
    "  \"model\": \"Mustang\",\n",
    "  \"year\": 1964\n",
    "}\n",
    "print(car[\"model\"])"
   ]
  },
  {
   "cell_type": "code",
   "execution_count": null,
   "id": "5ae13024",
   "metadata": {},
   "outputs": [],
   "source": [
    "car =\t{\n",
    "  \"brand\": \"Ford\",\n",
    "  \"model\": \"Mustang\",\n",
    "  \"year\": 1964\n",
    "}\n",
    "car[\"year\"] = 2020"
   ]
  },
  {
   "cell_type": "code",
   "execution_count": null,
   "id": "7fa02ad4",
   "metadata": {},
   "outputs": [],
   "source": [
    "car =\t{\n",
    "  \"brand\": \"Ford\",\n",
    "  \"model\": \"Mustang\",\n",
    "  \"year\": 1964\n",
    "}\n",
    "car[\"color\"] = \"red\""
   ]
  },
  {
   "cell_type": "code",
   "execution_count": null,
   "id": "31bff075",
   "metadata": {},
   "outputs": [],
   "source": [
    "car =\t{\n",
    "  \"brand\": \"Ford\",\n",
    "  \"model\": \"Mustang\",\n",
    "  \"year\": 1964\n",
    "}\n",
    "car.pop(\"model\")\n",
    "print(car)"
   ]
  },
  {
   "cell_type": "code",
   "execution_count": null,
   "id": "9d279a39",
   "metadata": {},
   "outputs": [],
   "source": [
    "car =\t{\n",
    "  \"brand\": \"Ford\",\n",
    "  \"model\": \"Mustang\",\n",
    "  \"year\": 1964\n",
    "}\n",
    "car.clear()"
   ]
  },
  {
   "cell_type": "code",
   "execution_count": null,
   "id": "0806e7ed",
   "metadata": {},
   "outputs": [],
   "source": [
    "PYTHON if or else"
   ]
  },
  {
   "cell_type": "code",
   "execution_count": null,
   "id": "ffcf48c8",
   "metadata": {},
   "outputs": [],
   "source": [
    "a = 50\n",
    "b = 10\n",
    "if a > b:\n",
    "    print(\"Hello World\")"
   ]
  },
  {
   "cell_type": "code",
   "execution_count": null,
   "id": "584a1888",
   "metadata": {},
   "outputs": [],
   "source": [
    "a = 50\n",
    "b = 10\n",
    "if a != b:\n",
    "    print('Hello World')"
   ]
  },
  {
   "cell_type": "code",
   "execution_count": null,
   "id": "a4f70566",
   "metadata": {},
   "outputs": [],
   "source": [
    "a = 50\n",
    "b = 10\n",
    "if a == b:\n",
    "    print(\"YES\")\n",
    "else:\n",
    "    print(\"NO\")"
   ]
  },
  {
   "cell_type": "code",
   "execution_count": null,
   "id": "2eb95f5a",
   "metadata": {},
   "outputs": [],
   "source": [
    "a = 50\n",
    "b = 10\n",
    "if a == b:\n",
    "    print(\"1\")\n",
    "if a > b:\n",
    "    print(\"2\")\n",
    "else:\n",
    "    print(\"3\")"
   ]
  },
  {
   "cell_type": "code",
   "execution_count": null,
   "id": "7659be84",
   "metadata": {},
   "outputs": [],
   "source": [
    "a = 2\n",
    "b = 2\n",
    "c = 3\n",
    "d = 3\n",
    "if a == b and c == d:\n",
    "    print(\"Hello\")"
   ]
  },
  {
   "cell_type": "code",
   "execution_count": null,
   "id": "4c762faa",
   "metadata": {},
   "outputs": [],
   "source": [
    "a = 2\n",
    "b = 2\n",
    "c = 3\n",
    "d = 3\n",
    "if a == b or c == d:\n",
    "    print(\"Hello\")"
   ]
  },
  {
   "cell_type": "code",
   "execution_count": null,
   "id": "41b53723",
   "metadata": {},
   "outputs": [],
   "source": [
    "PYTHON while loops"
   ]
  },
  {
   "cell_type": "code",
   "execution_count": null,
   "id": "1cd7c799",
   "metadata": {},
   "outputs": [],
   "source": [
    "i = 1\n",
    "while i > 6:\n",
    "    print(i)\n",
    "    i += 1"
   ]
  },
  {
   "cell_type": "code",
   "execution_count": null,
   "id": "c3218c4d",
   "metadata": {},
   "outputs": [],
   "source": [
    "i = 1\n",
    "while i < 6:\n",
    "    if i == 3:\n",
    "    break\n",
    "i += 1"
   ]
  },
  {
   "cell_type": "code",
   "execution_count": null,
   "id": "197ac7ae",
   "metadata": {},
   "outputs": [],
   "source": [
    "i = 0\n",
    "while i < 6:\n",
    "    i += 1\n",
    "    if i == 3:\n",
    "    continue\n",
    "print(i)"
   ]
  },
  {
   "cell_type": "code",
   "execution_count": 3,
   "id": "cdb83964",
   "metadata": {},
   "outputs": [
    {
     "ename": "SyntaxError",
     "evalue": "invalid syntax (582337164.py, line 5)",
     "output_type": "error",
     "traceback": [
      "\u001b[1;36m  File \u001b[1;32m\"C:\\Users\\User\\AppData\\Local\\Temp\\ipykernel_9612\\582337164.py\"\u001b[1;36m, line \u001b[1;32m5\u001b[0m\n\u001b[1;33m    else:\u001b[0m\n\u001b[1;37m    ^\u001b[0m\n\u001b[1;31mSyntaxError\u001b[0m\u001b[1;31m:\u001b[0m invalid syntax\n"
     ]
    }
   ],
   "source": [
    "i = 1\n",
    "while i < 6:\n",
    "    print(i)\n",
    "    i += 1\n",
    "    else:\n",
    "    print(\"i is no longer less than 6\")"
   ]
  },
  {
   "cell_type": "markdown",
   "id": "74494936",
   "metadata": {},
   "source": [
    "Python for loops"
   ]
  },
  {
   "cell_type": "code",
   "execution_count": null,
   "id": "751ddab0",
   "metadata": {},
   "outputs": [],
   "source": [
    "fruits = [\"apple\", \"banana\", \"cherry\"]\n",
    "for x in fruits:\n",
    "    print(x)"
   ]
  },
  {
   "cell_type": "code",
   "execution_count": null,
   "id": "f580cd69",
   "metadata": {},
   "outputs": [],
   "source": [
    "fruits = [\"apple\", \"banana\", \"cherry\"]\n",
    "for x in fruits:\n",
    "    if x == \"banana\":\n",
    "    continue\n",
    "print(x)"
   ]
  },
  {
   "cell_type": "code",
   "execution_count": null,
   "id": "ee46f52e",
   "metadata": {},
   "outputs": [],
   "source": [
    "for x in range(6):\n",
    "    print(x)"
   ]
  },
  {
   "cell_type": "code",
   "execution_count": null,
   "id": "e02ff0d0",
   "metadata": {},
   "outputs": [],
   "source": [
    "fruits = [\"apple\", \"banana\", \"cherry\"]\n",
    "for x in fruits:\n",
    "    if x == \"banana\":\n",
    "    break\n",
    "print(x)"
   ]
  }
 ],
 "metadata": {
  "kernelspec": {
   "display_name": "Python 3 (ipykernel)",
   "language": "python",
   "name": "python3"
  },
  "language_info": {
   "codemirror_mode": {
    "name": "ipython",
    "version": 3
   },
   "file_extension": ".py",
   "mimetype": "text/x-python",
   "name": "python",
   "nbconvert_exporter": "python",
   "pygments_lexer": "ipython3",
   "version": "3.9.13"
  }
 },
 "nbformat": 4,
 "nbformat_minor": 5
}
