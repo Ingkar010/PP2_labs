{
 "cells": [
  {
   "attachments": {},
   "cell_type": "markdown",
   "metadata": {},
   "source": [
    "Write a Python program that matches a string that has an 'a' followed by zero or more 'b''s"
   ]
  },
  {
   "cell_type": "code",
   "execution_count": 12,
   "metadata": {},
   "outputs": [
    {
     "name": "stdout",
     "output_type": "stream",
     "text": [
      "found a match\n",
      "match is not found\n",
      "match is not found\n",
      "match is not found\n"
     ]
    }
   ],
   "source": [
    "import re\n",
    "def match(text):\n",
    "    pattern = '^a(b*)$'\n",
    "    if re.search(pattern,text):\n",
    "        return 'found a match'\n",
    "    else:\n",
    "        return 'match is not found'\n",
    "print(match(\"abbbb\"))\n",
    "print(match(\"a0uWu\"))\n",
    "print(match(\"acaca\"))\n",
    "print(match(\"wassuuup\"))"
   ]
  },
  {
   "attachments": {},
   "cell_type": "markdown",
   "metadata": {},
   "source": [
    "Write a Python program that matches a string that has an 'a' followed by two to three 'b'"
   ]
  },
  {
   "cell_type": "code",
   "execution_count": 15,
   "metadata": {},
   "outputs": [
    {
     "name": "stdout",
     "output_type": "stream",
     "text": [
      "found a match\n",
      "match is not found\n",
      "match is not found\n",
      "match is not found\n"
     ]
    }
   ],
   "source": [
    "import re\n",
    "def match(text):\n",
    "    pattern = '^a(b{2,3})$'\n",
    "    if re.search(pattern,text):\n",
    "        return 'found a match'\n",
    "    else:\n",
    "        return 'match is not found'\n",
    "print(match(\"abbb\"))\n",
    "print(match(\"arangutang\"))\n",
    "print(match(\"abbduck\"))\n",
    "print(match(\"regex\"))"
   ]
  },
  {
   "attachments": {},
   "cell_type": "markdown",
   "metadata": {},
   "source": [
    "Write a Python program to find sequences of lowercase letters joined with a underscore"
   ]
  },
  {
   "cell_type": "code",
   "execution_count": 16,
   "metadata": {},
   "outputs": [
    {
     "name": "stdout",
     "output_type": "stream",
     "text": [
      "found a match\n",
      "match is not found\n",
      "match is not found\n",
      "match is not found\n"
     ]
    }
   ],
   "source": [
    "import re\n",
    "def match(text):\n",
    "    pattern = '^[a-z]+_[a-z]+$'\n",
    "    if re.search(pattern,text):\n",
    "        return 'found a match'\n",
    "    else:\n",
    "        return 'match is not found'\n",
    "print(match(\"a_yingying\"))\n",
    "print(match(\"UUWUU\"))\n",
    "print(match(\"dssh_hjdf_hffuy\"))\n",
    "print(match(\"pingyou\"))"
   ]
  },
  {
   "attachments": {},
   "cell_type": "markdown",
   "metadata": {},
   "source": [
    "Write a Python program to find the sequences of one upper case letter followed by lower case letters"
   ]
  },
  {
   "cell_type": "code",
   "execution_count": 21,
   "metadata": {},
   "outputs": [
    {
     "name": "stdout",
     "output_type": "stream",
     "text": [
      "found a match\n",
      "found a match\n",
      "match is not found\n"
     ]
    }
   ],
   "source": [
    "import re\n",
    "def match(text):\n",
    "    pattern = '[A-Z]+[a-z]+$'\n",
    "    if re.search(pattern,text):\n",
    "        return \"found a match\"\n",
    "    else:\n",
    "        return \"match is not found\"\n",
    "print(match(\"Apple\"))\n",
    "print(match(\"reCursion\"))\n",
    "print(match(\"ALLLLLLL\"))"
   ]
  },
  {
   "attachments": {},
   "cell_type": "markdown",
   "metadata": {},
   "source": [
    "Write a Python program that matches a string that has an 'a' followed by anything, ending in 'b'"
   ]
  },
  {
   "cell_type": "code",
   "execution_count": 22,
   "metadata": {},
   "outputs": [
    {
     "name": "stdout",
     "output_type": "stream",
     "text": [
      "match is not found\n",
      "found a match\n",
      "found a match\n",
      "match is not found\n"
     ]
    }
   ],
   "source": [
    "import re\n",
    "def match(text):\n",
    "    pattern = 'a.*?b$'\n",
    "    if re.search(pattern,text):\n",
    "        return \"found a match\"\n",
    "    else:\n",
    "        return \"match is not found\"\n",
    "print(match(\"acutew\"))\n",
    "print(match(\"aaauyb\"))\n",
    "print(match(\"aafghbhxb\"))\n",
    "print(match(\"duuub\"))"
   ]
  },
  {
   "attachments": {},
   "cell_type": "markdown",
   "metadata": {},
   "source": [
    "Write a Python program to replace all occurrences of space, comma, or dot with a colon"
   ]
  },
  {
   "cell_type": "code",
   "execution_count": 30,
   "metadata": {},
   "outputs": [
    {
     "name": "stdout",
     "output_type": "stream",
     "text": [
      "I.belive.I.can.fly.I.believe.I.can.touch.the.sky.\n"
     ]
    }
   ],
   "source": [
    "import re\n",
    "text = \"I belive I can fly,I believe I can touch the sky;\"\n",
    "text2 = re.sub(\"[ ,;]\",\".\",text)\n",
    "print(text2)"
   ]
  },
  {
   "attachments": {},
   "cell_type": "markdown",
   "metadata": {},
   "source": [
    "Write a python program to convert snake case string to camel case string"
   ]
  },
  {
   "cell_type": "code",
   "execution_count": 1,
   "metadata": {},
   "outputs": [
    {
     "name": "stdout",
     "output_type": "stream",
     "text": [
      "HelloWorld\n",
      "IBelieveInMyself\n"
     ]
    }
   ],
   "source": [
    "import re\n",
    "def snake_to_camel(text):\n",
    "    camelCase=\"\"\n",
    "    pattern = re.compile(r\"[_]\")\n",
    "    words=pattern.split(text)\n",
    "    for i, word in enumerate(words):\n",
    "        if i != 0:\n",
    "            camelCase+=word.capitalize()\n",
    "        else: \n",
    "            camelCase += word.capitalize()\n",
    "    return camelCase\n",
    "print(snake_to_camel(\"hello_world\"))\n",
    "print(snake_to_camel(\"i_believe_in_myself\"))"
   ]
  },
  {
   "attachments": {},
   "cell_type": "markdown",
   "metadata": {},
   "source": [
    "Write a Python program to split a string at uppercase letters"
   ]
  },
  {
   "cell_type": "code",
   "execution_count": 6,
   "metadata": {},
   "outputs": [
    {
     "name": "stdout",
     "output_type": "stream",
     "text": [
      "One Two Three\n",
      "Tastes Differ\n"
     ]
    }
   ],
   "source": [
    "import re\n",
    "def modify(text):\n",
    "    res = \"\"\n",
    "    pattern = re.compile(r\"[A-Z][a-z]+\")\n",
    "    words = pattern.findall(text)\n",
    "    for i, word in enumerate(words):\n",
    "        if i != 0:  \n",
    "            res += \" \" + word\n",
    "        else:\n",
    "            res += word\n",
    "    return res\n",
    "print(modify(\"OneTwoThree\"))\n",
    "print(modify(\"TastesDiffer\"))"
   ]
  },
  {
   "attachments": {},
   "cell_type": "markdown",
   "metadata": {},
   "source": [
    "Write a Python program to insert spaces between words starting with capital letters\n"
   ]
  },
  {
   "cell_type": "code",
   "execution_count": 8,
   "metadata": {},
   "outputs": [
    {
     "name": "stdout",
     "output_type": "stream",
     "text": [
      "Hello World One More Time\n",
      "Child Free Place\n"
     ]
    }
   ],
   "source": [
    "import re\n",
    "def spaces(text):\n",
    "    res = \"\"\n",
    "    pattern = re.compile(r\"[A-Z][a-z]+\")\n",
    "    words = pattern.findall(text)\n",
    "    for i, word in enumerate(words):\n",
    "        if i != 0:\n",
    "            res += \" \" + word\n",
    "        else:\n",
    "            res += word\n",
    "    return res\n",
    "print(spaces(\"HelloWorldOneMoreTime\"))\n",
    "print(spaces(\"ChildFreePlace\"))"
   ]
  },
  {
   "attachments": {},
   "cell_type": "markdown",
   "metadata": {},
   "source": [
    "Write a Python program to convert a given camel case string to snake case"
   ]
  },
  {
   "cell_type": "code",
   "execution_count": 7,
   "metadata": {},
   "outputs": [
    {
     "name": "stdout",
     "output_type": "stream",
     "text": [
      "python_exercises\n",
      "oppressive_aura\n",
      "one_two_three\n"
     ]
    }
   ],
   "source": [
    "import re\n",
    "def camel_to_snake(text):\n",
    "    res = \"\"\n",
    "    pattern = re.compile(r\"[A-Z][a-z]+\")\n",
    "    words = pattern.findall(text)\n",
    "    for i, word in enumerate(words):\n",
    "        if i == 0:\n",
    "            res += word.lower()\n",
    "        else:\n",
    "            res += \"_\" + word.lower()\n",
    "    return res\n",
    "print(camel_to_snake(\"PythonExercises\"))\n",
    "print(camel_to_snake(\"OppressiveAura\"))\n",
    "print(camel_to_snake(\"OneTwoThree\"))"
   ]
  }
 ],
 "metadata": {
  "kernelspec": {
   "display_name": "Python 3",
   "language": "python",
   "name": "python3"
  },
  "language_info": {
   "codemirror_mode": {
    "name": "ipython",
    "version": 3
   },
   "file_extension": ".py",
   "mimetype": "text/x-python",
   "name": "python",
   "nbconvert_exporter": "python",
   "pygments_lexer": "ipython3",
   "version": "3.11.1"
  },
  "orig_nbformat": 4
 },
 "nbformat": 4,
 "nbformat_minor": 2
}
