{
 "cells": [
  {
   "attachments": {},
   "cell_type": "markdown",
   "metadata": {},
   "source": [
    "Write a Python program with builtin function to multiply all the numbers in a list"
   ]
  },
  {
   "cell_type": "code",
   "execution_count": 4,
   "metadata": {},
   "outputs": [
    {
     "name": "stdout",
     "output_type": "stream",
     "text": [
      "288\n",
      "120\n"
     ]
    }
   ],
   "source": [
    "def multiply(list):  \n",
    "    total = 1\n",
    "    for x in list:\n",
    "        total *= x  \n",
    "    return total  \n",
    "print(multiply((8, 2, 3, 1, 6)))\n",
    "print(multiply((1,2,3,4,5)))"
   ]
  },
  {
   "attachments": {},
   "cell_type": "markdown",
   "metadata": {},
   "source": [
    "Write a Python program with builtin function that accepts a string and calculate the number of upper case letters and lower case letters"
   ]
  },
  {
   "cell_type": "code",
   "execution_count": 16,
   "metadata": {},
   "outputs": [
    {
     "name": "stdout",
     "output_type": "stream",
     "text": [
      "num of lower chars = 15, num of upper chars = 18\n"
     ]
    }
   ],
   "source": [
    "def numOfLetters(s):\n",
    "    cnt_upper = 0\n",
    "    cnt_lower = 0\n",
    "    for i in s:\n",
    "        if i.isupper():\n",
    "            cnt_upper += 1\n",
    "        elif i.islower():\n",
    "            cnt_lower += 1\n",
    "        else:\n",
    "            pass\n",
    "    print(f\"num of lower chars = {cnt_lower}, num of upper chars = {cnt_upper}\")\n",
    "numOfLetters(\"WE need TO take BETTER care OF our PLANET\")           "
   ]
  },
  {
   "attachments": {},
   "cell_type": "markdown",
   "metadata": {},
   "source": [
    "Write a Python program with builtin function that checks whether a passed string is palindrome or not"
   ]
  },
  {
   "cell_type": "code",
   "execution_count": 17,
   "metadata": {},
   "outputs": [
    {
     "name": "stdout",
     "output_type": "stream",
     "text": [
      "Is palindrome\n",
      "None\n",
      "Not palindrome\n",
      "None\n",
      "Is palindrome\n",
      "None\n",
      "Is palindrome\n",
      "None\n"
     ]
    }
   ],
   "source": [
    "def isPalindrome(s):\n",
    "    if s == str.join('',(reversed(s))):\n",
    "        print(\"Is palindrome\")\n",
    "    else:\n",
    "        print(\"Not palindrome\")\n",
    "print(isPalindrome(\"madam\"))\n",
    "print(isPalindrome(\"mama\"))\n",
    "print(isPalindrome(\"aaa bbbb aaa\"))\n",
    "print(isPalindrome(\"kuruk\"))"
   ]
  },
  {
   "attachments": {},
   "cell_type": "markdown",
   "metadata": {},
   "source": [
    "Write a Python program that invoke square root function after specific milliseconds"
   ]
  },
  {
   "cell_type": "code",
   "execution_count": 6,
   "metadata": {},
   "outputs": [
    {
     "name": "stdout",
     "output_type": "stream",
     "text": [
      "Square root of 25100 after 2123 milliseconds is 158.42979517754858\n",
      "1678945886.2346833\n"
     ]
    }
   ],
   "source": [
    "import time\n",
    "import math\n",
    "def sqrtDelayed(n, ms):\n",
    "    time.sleep(ms/1000)\n",
    "    print(f\"Square root of {n} after {ms} milliseconds is {math.sqrt(n)}\")\n",
    "    print(time.time())\n",
    "sqrtDelayed(25100, 2123)"
   ]
  },
  {
   "attachments": {},
   "cell_type": "markdown",
   "metadata": {},
   "source": [
    "Write a Python program with builtin function that returns True if all elements of the tuple are true"
   ]
  },
  {
   "cell_type": "code",
   "execution_count": 11,
   "metadata": {},
   "outputs": [
    {
     "name": "stdout",
     "output_type": "stream",
     "text": [
      "True\n",
      "False\n",
      "False\n",
      "True\n"
     ]
    }
   ],
   "source": [
    "def isTrue(tuple):\n",
    "    return all(tuple)\n",
    "print(isTrue([1,2,4]))\n",
    "print(isTrue([0,3,5]))\n",
    "print(isTrue([False,3,0]))\n",
    "print(isTrue([5,6,2]))"
   ]
  }
 ],
 "metadata": {
  "kernelspec": {
   "display_name": "Python 3",
   "language": "python",
   "name": "python3"
  },
  "language_info": {
   "codemirror_mode": {
    "name": "ipython",
    "version": 3
   },
   "file_extension": ".py",
   "mimetype": "text/x-python",
   "name": "python",
   "nbconvert_exporter": "python",
   "pygments_lexer": "ipython3",
   "version": "3.11.1"
  },
  "orig_nbformat": 4
 },
 "nbformat": 4,
 "nbformat_minor": 2
}
