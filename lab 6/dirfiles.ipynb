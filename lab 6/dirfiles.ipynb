{
 "cells": [
  {
   "attachments": {},
   "cell_type": "markdown",
   "metadata": {},
   "source": [
    "Write a Python program to list only directories, files and all directories, files in a specified path"
   ]
  },
  {
   "cell_type": "code",
   "execution_count": 10,
   "metadata": {},
   "outputs": [
    {
     "name": "stdout",
     "output_type": "stream",
     "text": [
      "Only directories:\n",
      "[]\n",
      "Only files:\n",
      "['1.py', '2.py', '3.py', '4.py', 'math.ipynb']\n",
      "All directories and files :\n",
      "['1.py', '2.py', '3.py', '4.py', 'math.ipynb']\n"
     ]
    }
   ],
   "source": [
    "import os\n",
    "path = 'D:\\lab 4'\n",
    "print(\"Only directories:\")\n",
    "print([ name for name in os.listdir(path) if os.path.isdir(os.path.join(path, name)) ])\n",
    "print(\"Only files:\")\n",
    "print([ name for name in os.listdir(path) if not os.path.isdir(os.path.join(path, name)) ])\n",
    "print(\"All directories and files :\")\n",
    "print([ name for name in os.listdir(path)])"
   ]
  },
  {
   "attachments": {},
   "cell_type": "markdown",
   "metadata": {},
   "source": [
    "Write a Python program to check for access to a specified path. Test the existence, readability, writability and executability of the specified path"
   ]
  },
  {
   "cell_type": "code",
   "execution_count": 5,
   "metadata": {},
   "outputs": [
    {
     "name": "stdout",
     "output_type": "stream",
     "text": [
      "Exist: True\n",
      "Readable: True\n",
      "Writable: True\n",
      "Executable: True\n"
     ]
    }
   ],
   "source": [
    "import os\n",
    "print('Exist:', os.access('D:\\lab 4', os.F_OK))\n",
    "print('Readable:', os.access('D:\\lab 4', os.R_OK))\n",
    "print('Writable:', os.access('D:\\lab 4', os.W_OK))\n",
    "print('Executable:', os.access('D:\\lab 4', os.X_OK))"
   ]
  },
  {
   "cell_type": "code",
   "execution_count": 6,
   "metadata": {},
   "outputs": [
    {
     "name": "stdout",
     "output_type": "stream",
     "text": [
      "Exist: False\n",
      "Readable: False\n",
      "Writable: False\n",
      "Executable: False\n"
     ]
    }
   ],
   "source": [
    "import os\n",
    "print('Exist:', os.access('D:\\lab 7', os.F_OK))\n",
    "print('Readable:', os.access('D:\\lab 7', os.R_OK))\n",
    "print('Writable:', os.access('D:\\lab 7', os.W_OK))\n",
    "print('Executable:', os.access('D:\\lab 7', os.X_OK))"
   ]
  },
  {
   "attachments": {},
   "cell_type": "markdown",
   "metadata": {},
   "source": [
    "Write a Python program to test whether a given path exists or not. If the path exist find the filename and directory portion of the given path"
   ]
  },
  {
   "cell_type": "code",
   "execution_count": 11,
   "metadata": {},
   "outputs": [
    {
     "name": "stdout",
     "output_type": "stream",
     "text": [
      "test whether a given path exists or not\n",
      "True\n",
      "File name of the path:\n",
      "lab 4\n",
      "dir portion of the path\n",
      "D:\\\n"
     ]
    }
   ],
   "source": [
    "import os\n",
    "print(\"test whether a given path exists or not\")\n",
    "path = 'D:\\lab 4'\n",
    "print(os.path.exists(path))\n",
    "print(\"File name of the path:\")\n",
    "print(os.path.basename(path))\n",
    "print(\"dir portion of the path\")\n",
    "print(os.path.dirname(path))"
   ]
  },
  {
   "attachments": {},
   "cell_type": "markdown",
   "metadata": {},
   "source": [
    "Write a Python program to count the number of lines in a text file"
   ]
  },
  {
   "cell_type": "code",
   "execution_count": 46,
   "metadata": {},
   "outputs": [
    {
     "name": "stdout",
     "output_type": "stream",
     "text": [
      "Number of lines in a file demofile.txt = 3\n"
     ]
    }
   ],
   "source": [
    "import os\n",
    "import pathlib\n",
    "def cnt(filename):\n",
    "    file = open('demofile.txt', 'r')\n",
    "    count = 0\n",
    "    for line in file:\n",
    "        count += 1\n",
    "    return count\n",
    "print(f\"Number of lines in a file demofile.txt = {cnt('demofile.txt')}\")"
   ]
  },
  {
   "attachments": {},
   "cell_type": "markdown",
   "metadata": {},
   "source": [
    "Write a Python program to write a list to a file"
   ]
  },
  {
   "cell_type": "code",
   "execution_count": 43,
   "metadata": {},
   "outputs": [
    {
     "name": "stdout",
     "output_type": "stream",
     "text": [
      "Hello\n",
      "Skylark\n",
      "Memes\n",
      "Saturn\n",
      "VOLATILE\n",
      "Sink\n",
      "\n"
     ]
    }
   ],
   "source": [
    "import os\n",
    "words = ['Hello', 'Skylark', 'Memes', 'Saturn', 'VOLATILE', 'Sink']\n",
    "with open('words.txt', \"w\") as myfile:\n",
    "        for i in words:\n",
    "                myfile.write(\"%s\\n\" % i)\n",
    "\n",
    "content = open('words.txt')\n",
    "print(content.read())"
   ]
  },
  {
   "attachments": {},
   "cell_type": "markdown",
   "metadata": {},
   "source": [
    "Write a Python program to generate 26 text files named A.txt, B.txt, and so on up to Z.txt"
   ]
  },
  {
   "cell_type": "code",
   "execution_count": 42,
   "metadata": {},
   "outputs": [
    {
     "name": "stdout",
     "output_type": "stream",
     "text": [
      "All files have been successfully generated\n"
     ]
    }
   ],
   "source": [
    "import string\n",
    "import os\n",
    "if not os.path.exists(\"letters\"):\n",
    "   os.makedirs(\"letters\")\n",
    "for letter in string.ascii_uppercase:\n",
    "   with open(letter + \".txt\", \"w\") as f:\n",
    "       f.writelines(letter)\n",
    "\n",
    "print(\"All files have been successfully generated\")"
   ]
  },
  {
   "attachments": {},
   "cell_type": "markdown",
   "metadata": {},
   "source": [
    "Write a Python program to delete file by specified path. Before deleting check for access and whether a given path exists or not"
   ]
  },
  {
   "cell_type": "code",
   "execution_count": 48,
   "metadata": {},
   "outputs": [
    {
     "name": "stdout",
     "output_type": "stream",
     "text": [
      "Successfully deletede the file\n"
     ]
    }
   ],
   "source": [
    "def deleteFile(p):\n",
    "    if os.path.exists(p):\n",
    "        os.remove(p)\n",
    "        print(\"Successfully deletede the file\")\n",
    "    else:\n",
    "        print(\"File does not exist\")\n",
    "deleteFile(\"demofile3.txt\")"
   ]
  }
 ],
 "metadata": {
  "kernelspec": {
   "display_name": "Python 3",
   "language": "python",
   "name": "python3"
  },
  "language_info": {
   "codemirror_mode": {
    "name": "ipython",
    "version": 3
   },
   "file_extension": ".py",
   "mimetype": "text/x-python",
   "name": "python",
   "nbconvert_exporter": "python",
   "pygments_lexer": "ipython3",
   "version": "3.11.1"
  },
  "orig_nbformat": 4
 },
 "nbformat": 4,
 "nbformat_minor": 2
}
